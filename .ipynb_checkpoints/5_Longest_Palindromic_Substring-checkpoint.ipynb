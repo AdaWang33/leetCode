{
 "cells": [
  {
   "cell_type": "code",
   "execution_count": 2,
   "metadata": {
    "collapsed": true
   },
   "outputs": [
    {
     "data": {
      "text/plain": [
       "'\\nGiven a string s, find the longest palindromic substring in s. You may assume that the maximum length of s is 1000.\\n\\nExample:\\n\\nInput: \"babad\"\\n\\nOutput: \"bab\"\\n\\nNote: \"aba\" is also a valid answer.\\n\\n'"
      ]
     },
     "execution_count": 2,
     "metadata": {},
     "output_type": "execute_result"
    }
   ],
   "source": [
    "\"\"\"\n",
    "Given a string s, find the longest palindromic substring in s. You may assume that the maximum length of s is 1000.\n",
    "\n",
    "Example:\n",
    "\n",
    "Input: \"babad\"\n",
    "\n",
    "Output: \"bab\"\n",
    "\n",
    "Note: \"aba\" is also a valid answer.\n",
    "\n",
    "\"\"\""
   ]
  },
  {
   "cell_type": "code",
   "execution_count": 66,
   "metadata": {
    "collapsed": true
   },
   "outputs": [],
   "source": [
    "class Solution(object):\n",
    "    def longestPalindrome(self, s):\n",
    "        \"\"\"\n",
    "        :type s: str\n",
    "        :rtype: str\n",
    "        \"\"\"\n",
    "        import numpy as np        \n",
    "        # 预处理\n",
    "        s1 = '#'+'#'.join(s)+'#'\n",
    "        Rl = [0]*len(s1)\n",
    "        \n",
    "        # 分情况讨论\n",
    "        maxRight, pos = 0, 0\n",
    "        \n",
    "        for i in range(len(s1)):\n",
    "            if i < maxRight:\n",
    "                Rl[i] = min(Rl[2*pos-i],maxRight-i)\n",
    "            else:\n",
    "                Rl[i] = 1\n",
    "            # 进行两边的拓展\n",
    "            while i-Rl[i]>=0 and i+Rl[i]< len(s1) and s1[i-Rl[i]] == s1[i+Rl[i]]:\n",
    "                Rl[i]+=1\n",
    "            # 更新maxRight和pos\n",
    "            if i+Rl[i]-1 > maxRight:\n",
    "                maxRight = i+Rl[i]-1\n",
    "                pos = i\n",
    "            \n",
    "            Index = np.argmax(Rl)\n",
    "            i = Index/2\n",
    "\n",
    "        return  s[i-max(Rl)-1:i+max(Rl)+1]\n",
    "        \n",
    "            "
   ]
  },
  {
   "cell_type": "code",
   "execution_count": 67,
   "metadata": {},
   "outputs": [
    {
     "data": {
      "text/plain": [
       "'bd'"
      ]
     },
     "execution_count": 67,
     "metadata": {},
     "output_type": "execute_result"
    }
   ],
   "source": [
    "sol = Solution()\n",
    "sol.longestPalindrome(\"cbbd\")"
   ]
  },
  {
   "cell_type": "code",
   "execution_count": 61,
   "metadata": {},
   "outputs": [
    {
     "name": "stdout",
     "output_type": "stream",
     "text": [
      "2131\n"
     ]
    }
   ],
   "source": [
    "\"\"\"\n",
    "参考答案\n",
    "\"\"\"\n",
    "class Solution(object):\n",
    "    def longestPalindrome(self, s):\n",
    "        \"\"\"\n",
    "        :type s: str\n",
    "        :rtype: str\n",
    "        \"\"\"\n",
    "\n",
    "        def preProcess(s):\n",
    "            if not s:\n",
    "                return ['^', '$']\n",
    "            T = ['^']\n",
    "            for c in s:\n",
    "                T +=  ['#', c]\n",
    "            T += ['#', '$']\n",
    "            return T\n",
    "\n",
    "        T = preProcess(s)\n",
    "        P = [0] * len(T) \n",
    "        center, right = 0, 0\n",
    "        for i in xrange(1, len(T) - 1):\n",
    "            i_mirror = 2 * center - i\n",
    "            if right > i:\n",
    "                P[i] = min(right - i, P[i_mirror])\n",
    "            else:\n",
    "                P[i] = 0\n",
    "\n",
    "            while T[i + 1 + P[i]] == T[i - 1 - P[i]]:\n",
    "                P[i] += 1\n",
    "\n",
    "            if i + P[i] > right:\n",
    "                center, right = i, i + P[i]       \n",
    "        \n",
    "        max_i = 0\n",
    "        for i in xrange(1, len(T) - 1):\n",
    "            if P[i] > P[max_i]:\n",
    "                max_i = i\n",
    "        start = (max_i - 1 - P[max_i]) / 2\n",
    "        return s[start : start + P[max_i]]\n",
    "\n",
    "    \n",
    "if __name__ == \"__main__\":\n",
    "    print Solution().longestPalindrome(\"abb\")\n"
   ]
  },
  {
   "cell_type": "code",
   "execution_count": null,
   "metadata": {},
   "outputs": [],
   "source": []
  },
  {
   "cell_type": "code",
   "execution_count": null,
   "metadata": {
    "collapsed": true
   },
   "outputs": [],
   "source": []
  }
 ],
 "metadata": {
  "kernelspec": {
   "display_name": "Python 2",
   "language": "python",
   "name": "python2"
  },
  "language_info": {
   "codemirror_mode": {
    "name": "ipython",
    "version": 2
   },
   "file_extension": ".py",
   "mimetype": "text/x-python",
   "name": "python",
   "nbconvert_exporter": "python",
   "pygments_lexer": "ipython2",
   "version": "2.7.14"
  }
 },
 "nbformat": 4,
 "nbformat_minor": 2
}
